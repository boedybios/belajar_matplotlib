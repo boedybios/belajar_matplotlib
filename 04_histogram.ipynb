{
 "cells": [
  {
   "cell_type": "markdown",
   "metadata": {
    "slideshow": {
     "slide_type": "slide"
    }
   },
   "source": [
    "![](./images/mpl_logo.png)\n",
    "\n",
    "# Histogram\n",
    "\n",
    "Dalam sesi ini kita akan mempelajari cara membuat histogram dengan Matplotlib."
   ]
  },
  {
   "cell_type": "markdown",
   "metadata": {
    "slideshow": {
     "slide_type": "slide"
    }
   },
   "source": [
    "## Import modules"
   ]
  },
  {
   "cell_type": "code",
   "execution_count": 1,
   "metadata": {},
   "outputs": [],
   "source": [
    "%matplotlib inline"
   ]
  },
  {
   "cell_type": "code",
   "execution_count": 2,
   "metadata": {},
   "outputs": [
    {
     "name": "stdout",
     "output_type": "stream",
     "text": [
      "3.2.2\n",
      "1.18.5\n"
     ]
    }
   ],
   "source": [
    "import matplotlib\n",
    "import matplotlib.pyplot as plt\n",
    "import numpy as np\n",
    "\n",
    "print(matplotlib.__version__)\n",
    "print(np.__version__)"
   ]
  },
  {
   "cell_type": "markdown",
   "metadata": {
    "slideshow": {
     "slide_type": "slide"
    }
   },
   "source": [
    "## Histogram"
   ]
  },
  {
   "cell_type": "code",
   "execution_count": 3,
   "metadata": {},
   "outputs": [],
   "source": [
    "mu = 100  # nilai mean\n",
    "sigma = 15  # nilai standard deviation\n",
    "x = mu + sigma * np.random.randn(437) # normal distribution"
   ]
  },
  {
   "cell_type": "code",
   "execution_count": 4,
   "metadata": {},
   "outputs": [
    {
     "data": {
      "text/plain": [
       "array([100.75648652, 120.81777842, 103.60528535,  83.55697365,\n",
       "       107.35656643,  81.40190539, 107.13115886,  84.07189919,\n",
       "        94.40300721, 108.69335221,  98.33543235,  89.66500916,\n",
       "        72.07030181, 108.46276665,  84.02614496,  89.75603834,\n",
       "        86.79592154, 103.58966609, 111.58086297,  71.80617877,\n",
       "       112.64764065, 121.94245368, 103.58899135,  78.53752368,\n",
       "       114.25282198,  93.88050649,  98.36676186,  88.50273535,\n",
       "       107.74177235,  99.33382055, 109.31580726,  99.23862689,\n",
       "       135.31413401,  85.55403047,  93.40022778,  99.92677726,\n",
       "       118.93281778,  73.99549882,  81.56871668,  89.02842879,\n",
       "       119.19985333,  86.28550043,  79.95721597, 109.7401009 ,\n",
       "        90.35636748,  94.02071491, 108.96861913, 110.8844008 ,\n",
       "       130.20312477,  92.99755344, 117.95773488, 111.13071193,\n",
       "       102.06925244,  93.85601447,  87.07936013,  99.09585813,\n",
       "        91.03269355,  90.62375536, 101.17213744, 100.94096744,\n",
       "        94.35661562,  94.3963471 , 114.79632067,  94.62080442,\n",
       "       118.892757  , 104.0910301 ,  80.67448948, 100.34748661,\n",
       "       140.60041423,  91.58136549,  74.58360492, 125.00497776,\n",
       "        73.98778133,  78.10376017, 113.51997543, 117.22675844,\n",
       "        85.95895473, 101.01574989,  67.53579484, 108.33327684,\n",
       "       100.42731996, 106.97440148,  83.65190044, 104.11098729,\n",
       "        97.18656768,  96.51067743, 113.7950919 ,  85.40528418,\n",
       "       114.42562757,  87.01567009, 101.7350658 ,  68.04348476,\n",
       "       126.52270458,  95.53210304,  93.31069322, 115.73503406,\n",
       "       118.55428175, 118.13987773,  89.8088714 , 118.3245925 ,\n",
       "        90.09217991, 102.37782195,  97.62885624, 101.84669188,\n",
       "        99.53813922, 108.1147856 , 108.60468604,  89.11122561,\n",
       "        75.7580042 , 124.70680977,  96.69719353, 114.86730357,\n",
       "        99.68719132,  76.20944641,  84.65447195,  97.55832787,\n",
       "        87.29795869, 109.12505068,  72.79879133,  76.93060094,\n",
       "        77.20239338,  82.61664203, 105.77249538,  93.34349441,\n",
       "        83.64458358, 122.06079964,  96.9270265 , 108.04288045,\n",
       "       114.92076019,  91.94334381,  69.0621008 , 107.53375962,\n",
       "       135.81218909,  96.07940683,  78.80132773,  89.24894891,\n",
       "       101.61010668, 108.02849798, 117.99937422,  89.68588058,\n",
       "       119.26155616, 130.20858323, 108.42917779,  67.28690551,\n",
       "       100.85790547,  76.03154825,  99.59450642,  82.5688898 ,\n",
       "       111.26833911,  97.66331878,  95.01127465, 113.33064929,\n",
       "       101.50220474, 123.50177656, 123.61739926,  79.20462861,\n",
       "        88.09310335,  81.8721339 ,  89.30638059,  95.71732914,\n",
       "        87.4490044 ,  94.06963878, 113.6125907 , 111.65139406,\n",
       "        89.18843029, 102.74022983,  97.51610015,  98.73071847,\n",
       "        58.31272647, 107.99841154,  99.45274008, 114.82334268,\n",
       "        97.53815005,  91.48338392, 118.95773183, 125.98971189,\n",
       "        88.02139743, 114.90613524,  89.19119169,  98.0608441 ,\n",
       "       119.32599096, 101.88293591, 103.46455443, 103.80031103,\n",
       "        95.65106812,  88.71207212, 111.9544279 ,  88.7777477 ,\n",
       "       112.38822278, 110.03233235, 110.59613771,  88.26625447,\n",
       "        76.7247522 , 111.91095311,  84.15632546, 110.75986323,\n",
       "        74.54036904,  88.85042464,  73.24969991, 109.48750723,\n",
       "        84.14757392, 117.63227619, 119.63510607, 113.1508693 ,\n",
       "        76.42705288, 110.78233642, 116.18529856, 103.16916306,\n",
       "        97.61084011, 100.10902488, 104.24834416, 120.45789468,\n",
       "        81.59705724,  76.56378841, 106.69297501,  98.91069412,\n",
       "        89.18298298, 102.07765744,  99.08929808, 110.93721384,\n",
       "       102.02193956, 116.48306924, 106.58772317, 112.39637418,\n",
       "        97.31499833, 100.57705035,  79.02178128,  88.96863885,\n",
       "        95.94215671,  81.66845538,  84.18879134,  80.58120816,\n",
       "       135.87900136,  96.58172495,  96.67891518,  95.92293737,\n",
       "        81.24664049, 102.48663791,  96.9020129 , 109.61564873,\n",
       "        81.95454337, 102.0764604 ,  68.5884935 , 102.03715237,\n",
       "       100.37945336,  98.99051177, 113.1654062 , 122.2387135 ,\n",
       "       117.69063204,  97.78064858,  97.93429566, 111.45897896,\n",
       "       125.70978171, 130.79503241, 106.90312115, 109.62663689,\n",
       "        89.46455201, 107.07984592, 102.70838095,  82.74887088,\n",
       "        80.97954101,  81.09248172, 103.67790236, 119.87437179,\n",
       "        91.1406534 , 114.00411904,  80.06712603,  82.83977215,\n",
       "        80.72295896,  90.35730224,  97.23589253,  88.70326237,\n",
       "        98.24442622,  94.24800397, 112.87780852, 130.44403114,\n",
       "       102.89511564,  96.4157084 ,  62.66901793, 124.31498179,\n",
       "        76.52755312,  94.96333968,  83.77632477,  88.16269695,\n",
       "       127.02371078, 118.74170946, 104.06005327,  81.60793964,\n",
       "       108.09482029, 114.90655566,  99.6797094 , 114.5802285 ,\n",
       "        89.53315194, 107.04617268,  99.21574753, 100.06001902,\n",
       "        99.10111915, 109.56395793, 116.59718727,  66.93796017,\n",
       "       113.2806234 ,  98.58612972,  90.52371842,  68.5229125 ,\n",
       "        77.94636401,  91.87472267,  84.17397362,  76.02872612,\n",
       "       134.71113635,  81.26016809, 122.20592919, 124.75445852,\n",
       "        97.65067652, 104.19290407,  87.3530626 ,  93.18090333,\n",
       "        84.95464849,  96.93389917,  96.95687529,  85.78654066,\n",
       "       116.57958492,  77.16597621,  85.25823214, 113.71039797,\n",
       "        80.48632625,  90.98149494,  82.04309516,  91.67849723,\n",
       "        74.69669482,  94.60285789,  82.38388897,  81.4486558 ,\n",
       "       119.62131014, 100.07955625, 101.10820858,  91.17248435,\n",
       "       105.25608877,  82.51625142, 110.74218733, 122.51003538,\n",
       "        92.0053573 ,  91.80560453, 103.28302077, 112.20396963,\n",
       "        84.44347422, 104.52671594, 115.97949122, 102.73430191,\n",
       "       108.70954619,  85.10966461,  95.25126586,  73.39065022,\n",
       "       130.88078698,  85.51091076, 108.38134263,  89.9518647 ,\n",
       "       114.47838666, 118.32099198, 101.54413413,  85.64860208,\n",
       "       111.67169148,  93.81897873, 115.56344924,  98.37576201,\n",
       "        91.69983845, 113.57077615, 126.90267075,  98.00469514,\n",
       "       109.67271111,  93.4682558 , 122.10064778, 100.9446369 ,\n",
       "        78.97960831, 125.31954939,  91.61829761, 118.62734591,\n",
       "        77.08109088,  84.64270263,  94.79398737, 109.85211254,\n",
       "       108.63114442, 120.74272533,  75.71565968, 107.18339244,\n",
       "       110.93084571, 106.50679036, 120.96111134, 100.89194841,\n",
       "        76.11747557,  84.97634752, 103.52707724, 105.1861742 ,\n",
       "       104.00120596, 107.02961644, 101.21222594, 128.56799972,\n",
       "       104.55619108, 121.60195706, 116.15537477, 107.26452205,\n",
       "        58.42566151, 115.29720305, 103.24625628,  87.61226312,\n",
       "        84.71075309, 107.43378441, 112.24342456,  92.23700766,\n",
       "       109.95132217, 103.63199236, 120.72603825, 124.10028435,\n",
       "        74.20875395,  95.71617837, 103.01550736,  88.84843146,\n",
       "       100.27432144,  92.81287685, 104.12965289, 125.08470287,\n",
       "        89.24032253, 105.2746131 , 121.21170122,  95.10655442,\n",
       "       101.01766219, 117.83315943, 101.10710407, 103.54232745,\n",
       "       121.40683044, 109.18069846, 101.82719779, 121.24181651,\n",
       "        76.85621899, 103.1329152 , 104.60943896, 116.25141929,\n",
       "       110.48725239])"
      ]
     },
     "execution_count": 4,
     "metadata": {},
     "output_type": "execute_result"
    }
   ],
   "source": [
    "x"
   ]
  },
  {
   "cell_type": "code",
   "execution_count": 5,
   "metadata": {},
   "outputs": [
    {
     "data": {
      "image/png": "[encoded data removed]",
      "text/plain": [
       "<Figure size 432x288 with 1 Axes>"
      ]
     },
     "metadata": {
      "needs_background": "light"
     },
     "output_type": "display_data"
    }
   ],
   "source": [
    "fig, ax = plt.subplots()\n",
    "\n",
    "ax.hist(x, bins=50)\n",
    "\n",
    "ax.set_xlabel('Sumbu X')\n",
    "ax.set_ylabel('Sumbu Y')\n",
    "ax.set_title('Contoh Histogram')\n",
    "\n",
    "plt.show()"
   ]
  }
 ],
 "metadata": {
  "celltoolbar": "Slideshow",
  "kernelspec": {
   "display_name": "Python 3",
   "language": "python",
   "name": "python3"
  },
  "language_info": {
   "codemirror_mode": {
    "name": "ipython",
    "version": 3
   },
   "file_extension": ".py",
   "mimetype": "text/x-python",
   "name": "python",
   "nbconvert_exporter": "python",
   "pygments_lexer": "ipython3",
   "version": "3.7.7"
  }
 },
 "nbformat": 4,
 "nbformat_minor": 4
}
